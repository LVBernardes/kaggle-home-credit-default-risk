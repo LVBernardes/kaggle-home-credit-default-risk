{
 "cells": [
  {
   "attachments": {},
   "cell_type": "markdown",
   "metadata": {},
   "source": [
    "# Businesse Understanding"
   ]
  },
  {
   "cell_type": "code",
   "execution_count": 7,
   "metadata": {},
   "outputs": [
    {
     "name": "stdout",
     "output_type": "stream",
     "text": [
      "\n",
      "Pandas version: 2.0.0\n",
      "Matplotlib Pyplot version: 3.7.1\n",
      "Seaborn version: 0.12.2    \n",
      "    \n"
     ]
    }
   ],
   "source": [
    "# import all necessary references\n",
    "import pandas as pd\n",
    "import importlib.metadata\n",
    "import matplotlib.pyplot as plt\n",
    "import seaborn as sns\n",
    "\n",
    "print(\n",
    "\n",
    "    f\"\"\"\n",
    "Pandas version: {pd.__version__}\n",
    "Matplotlib Pyplot version: {importlib.metadata.version(\"matplotlib\")}\n",
    "Seaborn version: {sns.__version__}    \n",
    "    \"\"\"\n",
    ")"
   ]
  },
  {
   "attachments": {},
   "cell_type": "markdown",
   "metadata": {},
   "source": [
    "### Carregar os dados iniciais\n",
    "\n",
    "Local de armazenagem inicial: `data/01_raw`"
   ]
  },
  {
   "cell_type": "code",
   "execution_count": 8,
   "metadata": {},
   "outputs": [],
   "source": [
    "# Criar as referências para os arquivos\n",
    "from pathlib import PurePath\n",
    "\n",
    "raw_application_test_file = PurePath(\"../../data/01_raw/application_test.csv\")\n",
    "raw_application_train_file = PurePath(\"../../data/01_raw/application_train.csv\")\n",
    "raw_bureau_file = PurePath(\"../../data/01_raw/bureau.csv\")\n",
    "raw_bureau_balance_file = PurePath(\"../../data/01_raw/bureau_balance.csv\")\n",
    "raw_bureau_credit_card_balance_file = PurePath(\"../../data/01_raw/credit_card_balance.csv\")\n",
    "raw_installments_payments_file = PurePath(\"../../data/01_raw/credit_card_balance.csv\")\n",
    "raw_pos_cash_balance_file = PurePath(\"../../data/01_raw/POS_CASH_balance.csv\")\n",
    "raw_previous_application_file = PurePath(\"../../data/01_raw/previous_application.csv\")\n",
    "raw_sample_submission_file = PurePath(\"../../data/01_raw/sample_submission.csv\")\n",
    "home_credit_columns_description_file = PurePath(\"../../data/01_raw/HomeCredit_columns_description.csv\")"
   ]
  },
  {
   "cell_type": "code",
   "execution_count": 11,
   "metadata": {},
   "outputs": [],
   "source": [
    "raw_application_train_df = pd.read_csv(raw_application_train_file, engine=\"pyarrow\", dtype_backend='pyarrow')\n",
    "raw_application_test_df = pd.read_csv(raw_application_test_file, engine=\"pyarrow\", dtype_backend='pyarrow')"
   ]
  },
  {
   "cell_type": "code",
   "execution_count": 12,
   "metadata": {},
   "outputs": [
    {
     "name": "stdout",
     "output_type": "stream",
     "text": [
      "raw_application_train_df shape: (307511, 122)\n",
      "raw_application_test_df shape: (48744, 121)\n"
     ]
    }
   ],
   "source": [
    "print(\n",
    "    f\"raw_application_train_df shape: {raw_application_train_df.shape}\\n\"\n",
    "    f\"raw_application_test_df shape: {raw_application_test_df.shape}\"\n",
    ")"
   ]
  },
  {
   "cell_type": "code",
   "execution_count": 15,
   "metadata": {},
   "outputs": [
    {
     "name": "stdout",
     "output_type": "stream",
     "text": [
      "<class 'pandas.core.frame.DataFrame'>\n",
      "RangeIndex: 307511 entries, 0 to 307510\n",
      "Data columns (total 122 columns):\n",
      " #    Column                        Non-Null Count   Dtype          \n",
      "---   ------                        --------------   -----          \n",
      " 0    SK_ID_CURR                    307511 non-null  int64[pyarrow] \n",
      " 1    TARGET                        307511 non-null  int64[pyarrow] \n",
      " 2    NAME_CONTRACT_TYPE            307511 non-null  string[pyarrow]\n",
      " 3    CODE_GENDER                   307511 non-null  string[pyarrow]\n",
      " 4    FLAG_OWN_CAR                  307511 non-null  string[pyarrow]\n",
      " 5    FLAG_OWN_REALTY               307511 non-null  string[pyarrow]\n",
      " 6    CNT_CHILDREN                  307511 non-null  int64[pyarrow] \n",
      " 7    AMT_INCOME_TOTAL              307511 non-null  double[pyarrow]\n",
      " 8    AMT_CREDIT                    307511 non-null  double[pyarrow]\n",
      " 9    AMT_ANNUITY                   307499 non-null  double[pyarrow]\n",
      " 10   AMT_GOODS_PRICE               307233 non-null  double[pyarrow]\n",
      " 11   NAME_TYPE_SUITE               307511 non-null  string[pyarrow]\n",
      " 12   NAME_INCOME_TYPE              307511 non-null  string[pyarrow]\n",
      " 13   NAME_EDUCATION_TYPE           307511 non-null  string[pyarrow]\n",
      " 14   NAME_FAMILY_STATUS            307511 non-null  string[pyarrow]\n",
      " 15   NAME_HOUSING_TYPE             307511 non-null  string[pyarrow]\n",
      " 16   REGION_POPULATION_RELATIVE    307511 non-null  double[pyarrow]\n",
      " 17   DAYS_BIRTH                    307511 non-null  int64[pyarrow] \n",
      " 18   DAYS_EMPLOYED                 307511 non-null  int64[pyarrow] \n",
      " 19   DAYS_REGISTRATION             307511 non-null  double[pyarrow]\n",
      " 20   DAYS_ID_PUBLISH               307511 non-null  int64[pyarrow] \n",
      " 21   OWN_CAR_AGE                   104582 non-null  double[pyarrow]\n",
      " 22   FLAG_MOBIL                    307511 non-null  int64[pyarrow] \n",
      " 23   FLAG_EMP_PHONE                307511 non-null  int64[pyarrow] \n",
      " 24   FLAG_WORK_PHONE               307511 non-null  int64[pyarrow] \n",
      " 25   FLAG_CONT_MOBILE              307511 non-null  int64[pyarrow] \n",
      " 26   FLAG_PHONE                    307511 non-null  int64[pyarrow] \n",
      " 27   FLAG_EMAIL                    307511 non-null  int64[pyarrow] \n",
      " 28   OCCUPATION_TYPE               307511 non-null  string[pyarrow]\n",
      " 29   CNT_FAM_MEMBERS               307509 non-null  double[pyarrow]\n",
      " 30   REGION_RATING_CLIENT          307511 non-null  int64[pyarrow] \n",
      " 31   REGION_RATING_CLIENT_W_CITY   307511 non-null  int64[pyarrow] \n",
      " 32   WEEKDAY_APPR_PROCESS_START    307511 non-null  string[pyarrow]\n",
      " 33   HOUR_APPR_PROCESS_START       307511 non-null  int64[pyarrow] \n",
      " 34   REG_REGION_NOT_LIVE_REGION    307511 non-null  int64[pyarrow] \n",
      " 35   REG_REGION_NOT_WORK_REGION    307511 non-null  int64[pyarrow] \n",
      " 36   LIVE_REGION_NOT_WORK_REGION   307511 non-null  int64[pyarrow] \n",
      " 37   REG_CITY_NOT_LIVE_CITY        307511 non-null  int64[pyarrow] \n",
      " 38   REG_CITY_NOT_WORK_CITY        307511 non-null  int64[pyarrow] \n",
      " 39   LIVE_CITY_NOT_WORK_CITY       307511 non-null  int64[pyarrow] \n",
      " 40   ORGANIZATION_TYPE             307511 non-null  string[pyarrow]\n",
      " 41   EXT_SOURCE_1                  134133 non-null  double[pyarrow]\n",
      " 42   EXT_SOURCE_2                  306851 non-null  double[pyarrow]\n",
      " 43   EXT_SOURCE_3                  246546 non-null  double[pyarrow]\n",
      " 44   APARTMENTS_AVG                151450 non-null  double[pyarrow]\n",
      " 45   BASEMENTAREA_AVG              127568 non-null  double[pyarrow]\n",
      " 46   YEARS_BEGINEXPLUATATION_AVG   157504 non-null  double[pyarrow]\n",
      " 47   YEARS_BUILD_AVG               103023 non-null  double[pyarrow]\n",
      " 48   COMMONAREA_AVG                92646 non-null   double[pyarrow]\n",
      " 49   ELEVATORS_AVG                 143620 non-null  double[pyarrow]\n",
      " 50   ENTRANCES_AVG                 152683 non-null  double[pyarrow]\n",
      " 51   FLOORSMAX_AVG                 154491 non-null  double[pyarrow]\n",
      " 52   FLOORSMIN_AVG                 98869 non-null   double[pyarrow]\n",
      " 53   LANDAREA_AVG                  124921 non-null  double[pyarrow]\n",
      " 54   LIVINGAPARTMENTS_AVG          97312 non-null   double[pyarrow]\n",
      " 55   LIVINGAREA_AVG                153161 non-null  double[pyarrow]\n",
      " 56   NONLIVINGAPARTMENTS_AVG       93997 non-null   double[pyarrow]\n",
      " 57   NONLIVINGAREA_AVG             137829 non-null  double[pyarrow]\n",
      " 58   APARTMENTS_MODE               151450 non-null  double[pyarrow]\n",
      " 59   BASEMENTAREA_MODE             127568 non-null  double[pyarrow]\n",
      " 60   YEARS_BEGINEXPLUATATION_MODE  157504 non-null  double[pyarrow]\n",
      " 61   YEARS_BUILD_MODE              103023 non-null  double[pyarrow]\n",
      " 62   COMMONAREA_MODE               92646 non-null   double[pyarrow]\n",
      " 63   ELEVATORS_MODE                143620 non-null  double[pyarrow]\n",
      " 64   ENTRANCES_MODE                152683 non-null  double[pyarrow]\n",
      " 65   FLOORSMAX_MODE                154491 non-null  double[pyarrow]\n",
      " 66   FLOORSMIN_MODE                98869 non-null   double[pyarrow]\n",
      " 67   LANDAREA_MODE                 124921 non-null  double[pyarrow]\n",
      " 68   LIVINGAPARTMENTS_MODE         97312 non-null   double[pyarrow]\n",
      " 69   LIVINGAREA_MODE               153161 non-null  double[pyarrow]\n",
      " 70   NONLIVINGAPARTMENTS_MODE      93997 non-null   double[pyarrow]\n",
      " 71   NONLIVINGAREA_MODE            137829 non-null  double[pyarrow]\n",
      " 72   APARTMENTS_MEDI               151450 non-null  double[pyarrow]\n",
      " 73   BASEMENTAREA_MEDI             127568 non-null  double[pyarrow]\n",
      " 74   YEARS_BEGINEXPLUATATION_MEDI  157504 non-null  double[pyarrow]\n",
      " 75   YEARS_BUILD_MEDI              103023 non-null  double[pyarrow]\n",
      " 76   COMMONAREA_MEDI               92646 non-null   double[pyarrow]\n",
      " 77   ELEVATORS_MEDI                143620 non-null  double[pyarrow]\n",
      " 78   ENTRANCES_MEDI                152683 non-null  double[pyarrow]\n",
      " 79   FLOORSMAX_MEDI                154491 non-null  double[pyarrow]\n",
      " 80   FLOORSMIN_MEDI                98869 non-null   double[pyarrow]\n",
      " 81   LANDAREA_MEDI                 124921 non-null  double[pyarrow]\n",
      " 82   LIVINGAPARTMENTS_MEDI         97312 non-null   double[pyarrow]\n",
      " 83   LIVINGAREA_MEDI               153161 non-null  double[pyarrow]\n",
      " 84   NONLIVINGAPARTMENTS_MEDI      93997 non-null   double[pyarrow]\n",
      " 85   NONLIVINGAREA_MEDI            137829 non-null  double[pyarrow]\n",
      " 86   FONDKAPREMONT_MODE            307511 non-null  string[pyarrow]\n",
      " 87   HOUSETYPE_MODE                307511 non-null  string[pyarrow]\n",
      " 88   TOTALAREA_MODE                159080 non-null  double[pyarrow]\n",
      " 89   WALLSMATERIAL_MODE            307511 non-null  string[pyarrow]\n",
      " 90   EMERGENCYSTATE_MODE           307511 non-null  string[pyarrow]\n",
      " 91   OBS_30_CNT_SOCIAL_CIRCLE      306490 non-null  double[pyarrow]\n",
      " 92   DEF_30_CNT_SOCIAL_CIRCLE      306490 non-null  double[pyarrow]\n",
      " 93   OBS_60_CNT_SOCIAL_CIRCLE      306490 non-null  double[pyarrow]\n",
      " 94   DEF_60_CNT_SOCIAL_CIRCLE      306490 non-null  double[pyarrow]\n",
      " 95   DAYS_LAST_PHONE_CHANGE        307510 non-null  double[pyarrow]\n",
      " 96   FLAG_DOCUMENT_2               307511 non-null  int64[pyarrow] \n",
      " 97   FLAG_DOCUMENT_3               307511 non-null  int64[pyarrow] \n",
      " 98   FLAG_DOCUMENT_4               307511 non-null  int64[pyarrow] \n",
      " 99   FLAG_DOCUMENT_5               307511 non-null  int64[pyarrow] \n",
      " 100  FLAG_DOCUMENT_6               307511 non-null  int64[pyarrow] \n",
      " 101  FLAG_DOCUMENT_7               307511 non-null  int64[pyarrow] \n",
      " 102  FLAG_DOCUMENT_8               307511 non-null  int64[pyarrow] \n",
      " 103  FLAG_DOCUMENT_9               307511 non-null  int64[pyarrow] \n",
      " 104  FLAG_DOCUMENT_10              307511 non-null  int64[pyarrow] \n",
      " 105  FLAG_DOCUMENT_11              307511 non-null  int64[pyarrow] \n",
      " 106  FLAG_DOCUMENT_12              307511 non-null  int64[pyarrow] \n",
      " 107  FLAG_DOCUMENT_13              307511 non-null  int64[pyarrow] \n",
      " 108  FLAG_DOCUMENT_14              307511 non-null  int64[pyarrow] \n",
      " 109  FLAG_DOCUMENT_15              307511 non-null  int64[pyarrow] \n",
      " 110  FLAG_DOCUMENT_16              307511 non-null  int64[pyarrow] \n",
      " 111  FLAG_DOCUMENT_17              307511 non-null  int64[pyarrow] \n",
      " 112  FLAG_DOCUMENT_18              307511 non-null  int64[pyarrow] \n",
      " 113  FLAG_DOCUMENT_19              307511 non-null  int64[pyarrow] \n",
      " 114  FLAG_DOCUMENT_20              307511 non-null  int64[pyarrow] \n",
      " 115  FLAG_DOCUMENT_21              307511 non-null  int64[pyarrow] \n",
      " 116  AMT_REQ_CREDIT_BUREAU_HOUR    265992 non-null  double[pyarrow]\n",
      " 117  AMT_REQ_CREDIT_BUREAU_DAY     265992 non-null  double[pyarrow]\n",
      " 118  AMT_REQ_CREDIT_BUREAU_WEEK    265992 non-null  double[pyarrow]\n",
      " 119  AMT_REQ_CREDIT_BUREAU_MON     265992 non-null  double[pyarrow]\n",
      " 120  AMT_REQ_CREDIT_BUREAU_QRT     265992 non-null  double[pyarrow]\n",
      " 121  AMT_REQ_CREDIT_BUREAU_YEAR    265992 non-null  double[pyarrow]\n",
      "dtypes: double[pyarrow](65), int64[pyarrow](41), string[pyarrow](16)\n",
      "memory usage: 308.4 MB\n"
     ]
    }
   ],
   "source": [
    "raw_application_train_df.info(verbose=True, show_counts=True)"
   ]
  }
 ],
 "metadata": {
  "kernelspec": {
   "display_name": "kaggle-home-credit-default-risk-h_6Wvlqg-py3.10",
   "language": "python",
   "name": "python3"
  },
  "language_info": {
   "codemirror_mode": {
    "name": "ipython",
    "version": 3
   },
   "file_extension": ".py",
   "mimetype": "text/x-python",
   "name": "python",
   "nbconvert_exporter": "python",
   "pygments_lexer": "ipython3",
   "version": "3.10.6"
  },
  "orig_nbformat": 4
 },
 "nbformat": 4,
 "nbformat_minor": 2
}
